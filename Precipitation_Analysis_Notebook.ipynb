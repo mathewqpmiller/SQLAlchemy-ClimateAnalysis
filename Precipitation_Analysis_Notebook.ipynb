{
 "cells": [
  {
   "cell_type": "markdown",
   "metadata": {},
   "source": [
    "# Climate Analysis and Exploration Assignment"
   ]
  },
  {
   "cell_type": "markdown",
   "metadata": {},
   "source": [
    "Congratulations! You've decided to treat yourself to a long holiday vacation in Honolulu, Hawaii! To help with your trip planning, you need to do some climate analysis on the area."
   ]
  },
  {
   "cell_type": "markdown",
   "metadata": {},
   "source": [
    "### Load Modules, Define File Path and Create Engine"
   ]
  },
  {
   "cell_type": "code",
   "execution_count": 1,
   "metadata": {},
   "outputs": [],
   "source": [
    "# Load Modules\n",
    "\n",
    "%matplotlib inline\n",
    "# Customizable style sheets and parameters for matplotlib\n",
    "from matplotlib import style\n",
    "style.use('fivethirtyeight')\n",
    "# Plot generator for bar, pie, line, scatter, box and other plots\n",
    "import matplotlib.pyplot as plt\n",
    "# High-level math and basic algebra computing tool\n",
    "import numpy as np\n",
    "# Dataframe generator that prints out various types of datasets\n",
    "import pandas as pd\n",
    "# Date and time attributes such as year, month, day, hour, minute, second \n",
    "import datetime as dt"
   ]
  },
  {
   "cell_type": "code",
   "execution_count": 2,
   "metadata": {},
   "outputs": [],
   "source": [
    "# Load Modules\n",
    "\n",
    "# Python SQL toolkit and Object Relational Mapper\n",
    "import sqlalchemy\n",
    "from sqlalchemy.ext.automap import automap_base\n",
    "from sqlalchemy.orm import Session\n",
    "from sqlalchemy import create_engine, inspect, func"
   ]
  },
  {
   "cell_type": "code",
   "execution_count": 3,
   "metadata": {},
   "outputs": [],
   "source": [
    "# File Path\n",
    "\n",
    "# Define variable that represents the file path location\n",
    "sqlite_file_path = \"Resources/hawaii.sqlite\""
   ]
  },
  {
   "cell_type": "code",
   "execution_count": 4,
   "metadata": {},
   "outputs": [],
   "source": [
    "# Create Engine\n",
    "\n",
    "# Define variable that holds the create engine function to read sqlite file\n",
    "sqlite_engine = create_engine(f\"sqlite:///{sqlite_file_path}\")"
   ]
  },
  {
   "cell_type": "markdown",
   "metadata": {},
   "source": [
    "### Reflect Tables, Detect Classes and Identify Columns into SQLAlchemy ORM"
   ]
  },
  {
   "cell_type": "code",
   "execution_count": 5,
   "metadata": {},
   "outputs": [],
   "source": [
    "# Reflect Tables\n",
    "\n",
    "# Define the automap variable to be used in the table reflect\n",
    "base = automap_base()\n",
    "# Reflect the tables from within the .sqlite file\n",
    "base.prepare(sqlite_engine, reflect=True)"
   ]
  },
  {
   "cell_type": "code",
   "execution_count": 6,
   "metadata": {},
   "outputs": [
    {
     "data": {
      "text/plain": [
       "['measurement', 'station']"
      ]
     },
     "execution_count": 6,
     "metadata": {},
     "output_type": "execute_result"
    }
   ],
   "source": [
    "# Detect Classes\n",
    "\n",
    "# View all of the classes that automap found\n",
    "base.classes.keys()"
   ]
  },
  {
   "cell_type": "code",
   "execution_count": 7,
   "metadata": {},
   "outputs": [],
   "source": [
    "# Define Classes\n",
    "\n",
    "# Define variable that references each found class name\n",
    "Measurement = base.classes.measurement\n",
    "Station = base.classes.station"
   ]
  },
  {
   "cell_type": "code",
   "execution_count": 8,
   "metadata": {},
   "outputs": [
    {
     "name": "stdout",
     "output_type": "stream",
     "text": [
      "id INTEGER\n",
      "station TEXT\n",
      "date TEXT\n",
      "prcp FLOAT\n",
      "tobs FLOAT\n"
     ]
    }
   ],
   "source": [
    "# Identify Columns\n",
    "\n",
    "# Define variable for inspect function to get column names from dataset\n",
    "inspector = inspect(sqlite_engine)\n",
    "inspector.get_table_names()\n",
    "\n",
    "# Define variable that returns the columns names and types for the 'Measurement' class\n",
    "measurement_column_names = inspector.get_columns('Measurement')\n",
    "for column in measurement_column_names:\n",
    "    print(column['name'], column[\"type\"])"
   ]
  },
  {
   "cell_type": "code",
   "execution_count": 9,
   "metadata": {},
   "outputs": [
    {
     "name": "stdout",
     "output_type": "stream",
     "text": [
      "id INTEGER\n",
      "station TEXT\n",
      "name TEXT\n",
      "latitude FLOAT\n",
      "longitude FLOAT\n",
      "elevation FLOAT\n"
     ]
    }
   ],
   "source": [
    "# Identify Columns\n",
    "\n",
    "# Define variable that returns the columns names and types for the 'Station' class\n",
    "station_column_names = inspector.get_columns('Station')\n",
    "for column in station_column_names:\n",
    "    print(column['name'], column['type'])"
   ]
  },
  {
   "cell_type": "code",
   "execution_count": 10,
   "metadata": {},
   "outputs": [
    {
     "data": {
      "text/plain": [
       "[(1, 'USC00519397', '2010-01-01', 0.08, 65.0),\n",
       " (2, 'USC00519397', '2010-01-02', 0.0, 63.0),\n",
       " (3, 'USC00519397', '2010-01-03', 0.0, 74.0),\n",
       " (4, 'USC00519397', '2010-01-04', 0.0, 76.0)]"
      ]
     },
     "execution_count": 10,
     "metadata": {},
     "output_type": "execute_result"
    }
   ],
   "source": [
    "# Identify Format\n",
    "\n",
    "# Investigate the dataset to see how the data is presented\n",
    "sqlite_engine.execute('SELECT * FROM Measurement LIMIT 4').fetchall()"
   ]
  },
  {
   "cell_type": "code",
   "execution_count": 11,
   "metadata": {},
   "outputs": [],
   "source": [
    "# Start Session\n",
    "\n",
    "# Create our session (link) from Python to the DB\n",
    "session = Session(sqlite_engine)"
   ]
  },
  {
   "cell_type": "markdown",
   "metadata": {},
   "source": [
    "### Queries: Exploratory Precipitation Analysis"
   ]
  },
  {
   "cell_type": "code",
   "execution_count": 12,
   "metadata": {},
   "outputs": [
    {
     "name": "stdout",
     "output_type": "stream",
     "text": [
      " The most recent date in the Hawaii.sqlite dataset file is 2017-08-23.\n"
     ]
    }
   ],
   "source": [
    "# Specific Query\n",
    "\n",
    "# Find the most recent date in the data set.\n",
    "latest_dataset_date = session.query(Measurement.date).order_by(Measurement.date.desc()).first()\n",
    "latest_dataset_date_print = dt.date(2017,8,23)\n",
    "print(f\" The most recent date in the Hawaii.sqlite dataset file is {latest_dataset_date_print}.\")"
   ]
  },
  {
   "cell_type": "code",
   "execution_count": 13,
   "metadata": {},
   "outputs": [
    {
     "name": "stdout",
     "output_type": "stream",
     "text": [
      " The date, one year ago, from the most recent date in the Hawaii.sqlite dataset file is 2016-08-23.\n"
     ]
    }
   ],
   "source": [
    "# Specific Query\n",
    "\n",
    "# Define variable that finds the date one year ago to the day from the most recent date in the dataset\n",
    "last_year = dt.date(2017,8,23) - dt.timedelta(days=365)\n",
    "print(f\" The date, one year ago, from the most recent date in the Hawaii.sqlite dataset file is {last_year}.\")"
   ]
  },
  {
   "cell_type": "code",
   "execution_count": 14,
   "metadata": {},
   "outputs": [],
   "source": [
    "# Specific Query\n",
    "\n",
    "# Define variable that represents the query of the last 12 months of Percipitation data\n",
    "last_years_precipitation_data = session.query(Measurement.date, Measurement.prcp).\\\n",
    "    filter(Measurement.date >= last_year).\\\n",
    "    order_by(Measurement.date).all()\n",
    "# print(last_years_percipitation_data)"
   ]
  },
  {
   "cell_type": "code",
   "execution_count": 15,
   "metadata": {},
   "outputs": [],
   "source": [
    "# Specific Query\n",
    "\n",
    "# Define variable that represents a query to retrieve all the data and precipitation scores\n",
    "total_scores = session.query(Measurement.date, Measurement.prcp).order_by(Measurement.date.desc()).all()\n",
    "# print(total_scores)"
   ]
  },
  {
   "cell_type": "code",
   "execution_count": 16,
   "metadata": {
    "scrolled": false
   },
   "outputs": [],
   "source": [
    "# Create Dataframe\n",
    "\n",
    "# Define variable and save the query results as a Pandas DataFrame\n",
    "precipitation_dataframe = pd.DataFrame(last_years_precipitation_data, columns=[\"Date\",\"Precipitation\"])\n",
    "# precipitation_dataframe.head()"
   ]
  },
  {
   "cell_type": "code",
   "execution_count": 17,
   "metadata": {},
   "outputs": [],
   "source": [
    "# Set Index\n",
    "\n",
    "# Set the dataframes index to the date column\n",
    "precipitation_dataframe.set_index(\"Date\", inplace=True,)\n",
    "# precipitation_dataframe.head()"
   ]
  },
  {
   "cell_type": "code",
   "execution_count": 18,
   "metadata": {
    "scrolled": false
   },
   "outputs": [
    {
     "data": {
      "text/html": [
       "<div>\n",
       "<style scoped>\n",
       "    .dataframe tbody tr th:only-of-type {\n",
       "        vertical-align: middle;\n",
       "    }\n",
       "\n",
       "    .dataframe tbody tr th {\n",
       "        vertical-align: top;\n",
       "    }\n",
       "\n",
       "    .dataframe thead th {\n",
       "        text-align: right;\n",
       "    }\n",
       "</style>\n",
       "<table border=\"1\" class=\"dataframe\">\n",
       "  <thead>\n",
       "    <tr style=\"text-align: right;\">\n",
       "      <th></th>\n",
       "      <th>Precipitation</th>\n",
       "    </tr>\n",
       "    <tr>\n",
       "      <th>Date</th>\n",
       "      <th></th>\n",
       "    </tr>\n",
       "  </thead>\n",
       "  <tbody>\n",
       "    <tr>\n",
       "      <th>2016-08-23</th>\n",
       "      <td>0.00</td>\n",
       "    </tr>\n",
       "    <tr>\n",
       "      <th>2016-08-23</th>\n",
       "      <td>0.15</td>\n",
       "    </tr>\n",
       "    <tr>\n",
       "      <th>2016-08-23</th>\n",
       "      <td>0.05</td>\n",
       "    </tr>\n",
       "    <tr>\n",
       "      <th>2016-08-23</th>\n",
       "      <td>NaN</td>\n",
       "    </tr>\n",
       "    <tr>\n",
       "      <th>2016-08-23</th>\n",
       "      <td>0.02</td>\n",
       "    </tr>\n",
       "  </tbody>\n",
       "</table>\n",
       "</div>"
      ],
      "text/plain": [
       "            Precipitation\n",
       "Date                     \n",
       "2016-08-23           0.00\n",
       "2016-08-23           0.15\n",
       "2016-08-23           0.05\n",
       "2016-08-23            NaN\n",
       "2016-08-23           0.02"
      ]
     },
     "execution_count": 18,
     "metadata": {},
     "output_type": "execute_result"
    }
   ],
   "source": [
    "# Sort Dataframe\n",
    "\n",
    "# Take the previously defined variable and sort the dataframe by date\n",
    "precipitation_dataframe = precipitation_dataframe.sort_values(by='Date')\n",
    "precipitation_dataframe.head()"
   ]
  },
  {
   "cell_type": "code",
   "execution_count": 19,
   "metadata": {},
   "outputs": [
    {
     "data": {
      "image/png": "[encoded data removed]",
      "text/plain": [
       "<Figure size 1152x648 with 1 Axes>"
      ]
     },
     "metadata": {},
     "output_type": "display_data"
    }
   ],
   "source": [
    "# Create Plot\n",
    "\n",
    "# Use Pandas Plotting with Matplotlib and create a bar chart plot of the percipitation data\n",
    "fig, ax = plt.subplots(figsize = (16, 9))\n",
    "precipitation_dataframe.plot(ax = ax, x_compat = True)\n",
    "\n",
    "# Create a unique 'Title' for the chart as well as x and y labels\n",
    "ax.set_xlabel('Date Recorded')\n",
    "ax.set_ylabel('Recorded Precipitation in Inches')\n",
    "ax.set_title(\"Precipitation Levels Throughout the Past Year\")\n",
    "\n",
    "#plt.savefig(\"Images/precipitation_plot.png\")\n",
    "\n",
    "plt.tight_layout()\n",
    "plt.show()\n",
    "\n",
    "## REFERENCED ## \"https://github.com/djcim402/Surfs-Up-SQLAlchemy-Homework/blob/master/climate_starter.ipynb\""
   ]
  },
  {
   "cell_type": "code",
   "execution_count": 20,
   "metadata": {},
   "outputs": [
    {
     "data": {
      "text/html": [
       "<div>\n",
       "<style scoped>\n",
       "    .dataframe tbody tr th:only-of-type {\n",
       "        vertical-align: middle;\n",
       "    }\n",
       "\n",
       "    .dataframe tbody tr th {\n",
       "        vertical-align: top;\n",
       "    }\n",
       "\n",
       "    .dataframe thead th {\n",
       "        text-align: right;\n",
       "    }\n",
       "</style>\n",
       "<table border=\"1\" class=\"dataframe\">\n",
       "  <thead>\n",
       "    <tr style=\"text-align: right;\">\n",
       "      <th></th>\n",
       "      <th>Precipitation</th>\n",
       "    </tr>\n",
       "  </thead>\n",
       "  <tbody>\n",
       "    <tr>\n",
       "      <th>count</th>\n",
       "      <td>2021.000000</td>\n",
       "    </tr>\n",
       "    <tr>\n",
       "      <th>mean</th>\n",
       "      <td>0.177279</td>\n",
       "    </tr>\n",
       "    <tr>\n",
       "      <th>std</th>\n",
       "      <td>0.461190</td>\n",
       "    </tr>\n",
       "    <tr>\n",
       "      <th>min</th>\n",
       "      <td>0.000000</td>\n",
       "    </tr>\n",
       "    <tr>\n",
       "      <th>25%</th>\n",
       "      <td>0.000000</td>\n",
       "    </tr>\n",
       "    <tr>\n",
       "      <th>50%</th>\n",
       "      <td>0.020000</td>\n",
       "    </tr>\n",
       "    <tr>\n",
       "      <th>75%</th>\n",
       "      <td>0.130000</td>\n",
       "    </tr>\n",
       "    <tr>\n",
       "      <th>max</th>\n",
       "      <td>6.700000</td>\n",
       "    </tr>\n",
       "  </tbody>\n",
       "</table>\n",
       "</div>"
      ],
      "text/plain": [
       "       Precipitation\n",
       "count    2021.000000\n",
       "mean        0.177279\n",
       "std         0.461190\n",
       "min         0.000000\n",
       "25%         0.000000\n",
       "50%         0.020000\n",
       "75%         0.130000\n",
       "max         6.700000"
      ]
     },
     "execution_count": 20,
     "metadata": {},
     "output_type": "execute_result"
    }
   ],
   "source": [
    "# Summarize Stats\n",
    "\n",
    "# With the previously defined Pandas Datafrme, calcualte the summary statistics for the precipitation data\n",
    "precipitation_dataframe.describe()"
   ]
  },
  {
   "cell_type": "markdown",
   "metadata": {},
   "source": [
    "### Queries: Exploratory Station Analysis"
   ]
  },
  {
   "cell_type": "code",
   "execution_count": 21,
   "metadata": {},
   "outputs": [
    {
     "name": "stdout",
     "output_type": "stream",
     "text": [
      "There are a total of 9 weather stations in Honolulu, Hawaii.\n"
     ]
    }
   ],
   "source": [
    "# Specific Query\n",
    "\n",
    "# Define variable that calculates the total number weather stations in the dataset\n",
    "total_weather_stations = session.query(Measurement.station).distinct().count()\n",
    "print(f\"There are a total of {total_weather_stations} weather stations in Honolulu, Hawaii.\")"
   ]
  },
  {
   "cell_type": "code",
   "execution_count": 22,
   "metadata": {},
   "outputs": [
    {
     "data": {
      "text/html": [
       "<div>\n",
       "<style scoped>\n",
       "    .dataframe tbody tr th:only-of-type {\n",
       "        vertical-align: middle;\n",
       "    }\n",
       "\n",
       "    .dataframe tbody tr th {\n",
       "        vertical-align: top;\n",
       "    }\n",
       "\n",
       "    .dataframe thead th {\n",
       "        text-align: right;\n",
       "    }\n",
       "</style>\n",
       "<table border=\"1\" class=\"dataframe\">\n",
       "  <thead>\n",
       "    <tr style=\"text-align: right;\">\n",
       "      <th></th>\n",
       "      <th>Total Measurements</th>\n",
       "    </tr>\n",
       "    <tr>\n",
       "      <th>Station ID</th>\n",
       "      <th></th>\n",
       "    </tr>\n",
       "  </thead>\n",
       "  <tbody>\n",
       "    <tr>\n",
       "      <th>USC00519281</th>\n",
       "      <td>2772</td>\n",
       "    </tr>\n",
       "    <tr>\n",
       "      <th>USC00519397</th>\n",
       "      <td>2724</td>\n",
       "    </tr>\n",
       "    <tr>\n",
       "      <th>USC00513117</th>\n",
       "      <td>2709</td>\n",
       "    </tr>\n",
       "    <tr>\n",
       "      <th>USC00519523</th>\n",
       "      <td>2669</td>\n",
       "    </tr>\n",
       "    <tr>\n",
       "      <th>USC00516128</th>\n",
       "      <td>2612</td>\n",
       "    </tr>\n",
       "    <tr>\n",
       "      <th>USC00514830</th>\n",
       "      <td>2202</td>\n",
       "    </tr>\n",
       "    <tr>\n",
       "      <th>USC00511918</th>\n",
       "      <td>1979</td>\n",
       "    </tr>\n",
       "    <tr>\n",
       "      <th>USC00517948</th>\n",
       "      <td>1372</td>\n",
       "    </tr>\n",
       "    <tr>\n",
       "      <th>USC00518838</th>\n",
       "      <td>511</td>\n",
       "    </tr>\n",
       "  </tbody>\n",
       "</table>\n",
       "</div>"
      ],
      "text/plain": [
       "             Total Measurements\n",
       "Station ID                     \n",
       "USC00519281                2772\n",
       "USC00519397                2724\n",
       "USC00513117                2709\n",
       "USC00519523                2669\n",
       "USC00516128                2612\n",
       "USC00514830                2202\n",
       "USC00511918                1979\n",
       "USC00517948                1372\n",
       "USC00518838                 511"
      ]
     },
     "execution_count": 22,
     "metadata": {},
     "output_type": "execute_result"
    }
   ],
   "source": [
    "# Specific Query\n",
    "\n",
    "# Define variable that queries the total number of measurements per weather station. List the query in descending order.\n",
    "most_live_weather_station = session.query(Measurement.station, func.count(Measurement.station)).\\\n",
    "    group_by(Measurement.station).\\\n",
    "    order_by(func.count(Measurement.station).desc()).all()\n",
    "stations_dataframe = pd.DataFrame(most_live_weather_station, columns=[\"Station ID\",\"Total Measurements\"])\n",
    "stations_dataframe.set_index(\"Station ID\", inplace=True,)\n",
    "stations_dataframe"
   ]
  },
  {
   "cell_type": "code",
   "execution_count": 28,
   "metadata": {},
   "outputs": [
    {
     "data": {
      "text/html": [
       "<div>\n",
       "<style scoped>\n",
       "    .dataframe tbody tr th:only-of-type {\n",
       "        vertical-align: middle;\n",
       "    }\n",
       "\n",
       "    .dataframe tbody tr th {\n",
       "        vertical-align: top;\n",
       "    }\n",
       "\n",
       "    .dataframe thead th {\n",
       "        text-align: right;\n",
       "    }\n",
       "</style>\n",
       "<table border=\"1\" class=\"dataframe\">\n",
       "  <thead>\n",
       "    <tr style=\"text-align: right;\">\n",
       "      <th></th>\n",
       "      <th>Lowest Temperature</th>\n",
       "      <th>Highest Temperature</th>\n",
       "      <th>Average Temperature</th>\n",
       "    </tr>\n",
       "  </thead>\n",
       "  <tbody>\n",
       "    <tr>\n",
       "      <th>0</th>\n",
       "      <td>54.0</td>\n",
       "      <td>85.0</td>\n",
       "      <td>71.663781</td>\n",
       "    </tr>\n",
       "  </tbody>\n",
       "</table>\n",
       "</div>"
      ],
      "text/plain": [
       "   Lowest Temperature  Highest Temperature  Average Temperature\n",
       "0                54.0                 85.0            71.663781"
      ]
     },
     "execution_count": 28,
     "metadata": {},
     "output_type": "execute_result"
    }
   ],
   "source": [
    "# Summarize Stats\n",
    "\n",
    "# Define variable that calculates the minimum, maximum and average temperature from the Measurements class.\n",
    "temp_stats = [func.min(Measurement.tobs),\n",
    "              func.max(Measurement.tobs),\n",
    "              func.avg(Measurement.tobs)]\n",
    "# Define varaible that queries the 'temp_stats' variable with the most active weather station\n",
    "top_weather_station_temperature_statistics = session.query(*temp_stats).\\\n",
    "                        filter(Measurement.station == 'USC00519281').all()\n",
    "# Create a Pandas DataFrame, and input the query, to make the return results easier to read\n",
    "top_station_dataframe = pd.DataFrame(top_weather_station_temperature_statistics, columns=[\"Lowest Temperature\",\"Highest Temperature\", \"Average Temperature\"])\n",
    "top_station_dataframe"
   ]
  },
  {
   "cell_type": "code",
   "execution_count": 45,
   "metadata": {},
   "outputs": [
    {
     "data": {
      "image/png": "[encoded data removed]",
      "text/plain": [
       "<Figure size 1296x720 with 1 Axes>"
      ]
     },
     "metadata": {},
     "output_type": "display_data"
    }
   ],
   "source": [
    "# Create Plot\n",
    "\n",
    "# With the most live station id, query the last 12 months of temperature observations (tobs) and plot results in a histogram\n",
    "temperature_observations = session.query(Measurement.tobs).\\\n",
    "                filter(Measurement.date >= last_year).\\\n",
    "                filter(Measurement.station == \"USC00519281\").\\\n",
    "                order_by(Measurement.date).all()\n",
    "\n",
    "# Create a Pandas DataFrame so that a Pandas Plot can be executed\n",
    "temperature_observations_dataframe = pd.DataFrame(temperature_observations, columns=[\"Station ID: USC00519281\"])\n",
    "\n",
    "# Plot the Results as a Histogram with `bins=12`\n",
    "temperature_observations_dataframe.plot.hist(bins=12, title=\"Temperature Scale and Measurement Frequency\", figsize=(18,10))\n",
    "plt.ylabel(\"Number of Measurements\")\n",
    "plt.xlabel(\"Temperature in Degrees Farenheight\")\n",
    "plt.legend(loc=\"upper right\")\n",
    "# plt.savefig(\"Images/station_plot.png\")\n",
    "plt.tight_layout()\n",
    "plt.show()\n",
    "\n",
    "## REFERENCED ## \"https://github.com/axyperrary/Assignment-10/blob/master/Climate%20Analysis.ipynb\""
   ]
  },
  {
   "cell_type": "markdown",
   "metadata": {},
   "source": [
    "### Close session"
   ]
  },
  {
   "cell_type": "code",
   "execution_count": 46,
   "metadata": {},
   "outputs": [],
   "source": [
    "# Close Session\n",
    "session.close()"
   ]
  }
 ],
 "metadata": {
  "anaconda-cloud": {},
  "kernel_info": {
   "name": "python3"
  },
  "kernelspec": {
   "display_name": "Python 3",
   "language": "python",
   "name": "python3"
  },
  "language_info": {
   "codemirror_mode": {
    "name": "ipython",
    "version": 3
   },
   "file_extension": ".py",
   "mimetype": "text/x-python",
   "name": "python",
   "nbconvert_exporter": "python",
   "pygments_lexer": "ipython3",
   "version": "3.8.5"
  },
  "nteract": {
   "version": "0.12.3"
  },
  "varInspector": {
   "cols": {
    "lenName": 16,
    "lenType": 16,
    "lenVar": 40
   },
   "kernels_config": {
    "python": {
     "delete_cmd_postfix": "",
     "delete_cmd_prefix": "del ",
     "library": "var_list.py",
     "varRefreshCmd": "print(var_dic_list())"
    },
    "r": {
     "delete_cmd_postfix": ") ",
     "delete_cmd_prefix": "rm(",
     "library": "var_list.r",
     "varRefreshCmd": "cat(var_dic_list()) "
    }
   },
   "types_to_exclude": [
    "module",
    "function",
    "builtin_function_or_method",
    "instance",
    "_Feature"
   ],
   "window_display": false
  }
 },
 "nbformat": 4,
 "nbformat_minor": 2
}
